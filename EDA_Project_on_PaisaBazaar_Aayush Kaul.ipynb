{
  "nbformat": 4,
  "nbformat_minor": 0,
  "metadata": {
    "colab": {
      "private_outputs": true,
      "provenance": []
    },
    "kernelspec": {
      "name": "python3",
      "display_name": "Python 3"
    },
    "language_info": {
      "name": "python"
    }
  },
  "cells": [
    {
      "cell_type": "markdown",
      "source": [
        "#**Project Name   - Exploratory Data Analysis of loan applicants in PaisaBazaar**\n",
        "\n"
      ],
      "metadata": {
        "id": "vncDsAP0Gaoa"
      }
    },
    {
      "cell_type": "markdown",
      "source": [
        "##### **Project Type**    - EDA\n",
        "##### **By-** Aayush Kaul"
      ],
      "metadata": {
        "id": "beRrZCGUAJYm"
      }
    },
    {
      "cell_type": "markdown",
      "source": [
        "# **Project Summary -**"
      ],
      "metadata": {
        "id": "FJNUwmbgGyua"
      }
    },
    {
      "cell_type": "markdown",
      "source": [
        "The goal of this project is to perform exploratory data analysis (EDA) on the PaisaBazaar dataset, focusing on understanding the creditworthiness of the loan applicants by uncovering trends and  insights related to various parameters like total_emi_per_month, annual_income etc.\n",
        "\n",
        "**Key Steps**:\n",
        "\n",
        "**Data Collection and Cleaning**:The project contains a table containing the information about the financial status of various loan applicants.\n",
        "\n",
        "**Data Visualization**: Various visualization techniques were used including bar plots, histogram, scatter plots, heatmaps to name a few.\n",
        "\n",
        "This EDA provides a valuable help in identifying the creditworthy loan applicants accurately by analyzing multiple relevant parameters.\n"
      ],
      "metadata": {
        "id": "F6v_1wHtG2nS"
      }
    },
    {
      "cell_type": "markdown",
      "source": [
        "# **GitHub Link -** https://github.com/AayushKaul-ai"
      ],
      "metadata": {
        "id": "w6K7xa23Elo4"
      }
    },
    {
      "cell_type": "markdown",
      "source": [
        "# **Problem Statement**\n"
      ],
      "metadata": {
        "id": "yQaldy8SH6Dl"
      }
    },
    {
      "cell_type": "markdown",
      "source": [
        "To check the creditworthiness of a person by finding out their credit score accurately using multiple parameters."
      ],
      "metadata": {
        "id": "DpeJGUA3kjGy"
      }
    },
    {
      "cell_type": "markdown",
      "source": [
        "# ***Let's Begin !***"
      ],
      "metadata": {
        "id": "O_i_v8NEhb9l"
      }
    },
    {
      "cell_type": "markdown",
      "source": [
        "## ***1. Know Your Data***"
      ],
      "metadata": {
        "id": "HhfV-JJviCcP"
      }
    },
    {
      "cell_type": "markdown",
      "source": [
        "### Import Libraries"
      ],
      "metadata": {
        "id": "Y3lxredqlCYt"
      }
    },
    {
      "cell_type": "code",
      "source": [
        "# Import Libraries\n",
        "import pandas as pd, numpy as np"
      ],
      "metadata": {
        "id": "M8Vqi-pPk-HR"
      },
      "execution_count": null,
      "outputs": []
    },
    {
      "cell_type": "markdown",
      "source": [
        "### Dataset Loading"
      ],
      "metadata": {
        "id": "3RnN4peoiCZX"
      }
    },
    {
      "cell_type": "code",
      "source": [
        "df = pd.read_csv(\"/content/Unconfirmed 144037.crdownload\")"
      ],
      "metadata": {
        "id": "4CkvbW_SlZ_R"
      },
      "execution_count": null,
      "outputs": []
    },
    {
      "cell_type": "markdown",
      "source": [
        "### Dataset Rows & Columns count"
      ],
      "metadata": {
        "id": "7hBIi_osiCS2"
      }
    },
    {
      "cell_type": "code",
      "source": [
        "df"
      ],
      "metadata": {
        "id": "y_qFbjJFMT16"
      },
      "execution_count": null,
      "outputs": []
    },
    {
      "cell_type": "code",
      "source": [
        "# Dataset Rows & Columns count\n",
        "print(\"Number of rows:\", df.shape[0])\n",
        "print(\"Number of columns:\", df.shape[1])"
      ],
      "metadata": {
        "id": "Kllu7SJgmLij"
      },
      "execution_count": null,
      "outputs": []
    },
    {
      "cell_type": "markdown",
      "source": [
        "### Dataset Information"
      ],
      "metadata": {
        "id": "JlHwYmJAmNHm"
      }
    },
    {
      "cell_type": "code",
      "source": [
        "# Dataset Info\n",
        "df.info()"
      ],
      "metadata": {
        "id": "e9hRXRi6meOf"
      },
      "execution_count": null,
      "outputs": []
    },
    {
      "cell_type": "markdown",
      "source": [
        "#### Duplicate Values"
      ],
      "metadata": {
        "id": "35m5QtbWiB9F"
      }
    },
    {
      "cell_type": "code",
      "source": [
        "# Duplicate Values\n",
        "print(\"Number of duplicate rows:\", df.duplicated().sum())"
      ],
      "metadata": {
        "id": "1sLdpKYkmox0"
      },
      "execution_count": null,
      "outputs": []
    },
    {
      "cell_type": "markdown",
      "source": [
        "#### Missing Values/Null Values"
      ],
      "metadata": {
        "id": "PoPl-ycgm1ru"
      }
    },
    {
      "cell_type": "code",
      "source": [
        "# Missing Values/Null Values Count\n",
        "df.isnull().sum()"
      ],
      "metadata": {
        "id": "GgHWkxvamxVg"
      },
      "execution_count": null,
      "outputs": []
    },
    {
      "cell_type": "code",
      "source": [
        "# Visualizing the missing values\n",
        "df.isnull().sum().plot(kind ='bar')"
      ],
      "metadata": {
        "id": "3q5wnI3om9sJ"
      },
      "execution_count": null,
      "outputs": []
    },
    {
      "cell_type": "markdown",
      "source": [
        "We can observe from the dataset that there are multiple columns showing multiple parameters and most of them are completely filled while a few columns have a few null values to be treated.\n"
      ],
      "metadata": {
        "id": "gfoNAAC-nUe_"
      }
    },
    {
      "cell_type": "markdown",
      "source": [
        "## ***2. Understanding Your Variables***"
      ],
      "metadata": {
        "id": "nA9Y7ga8ng1Z"
      }
    },
    {
      "cell_type": "code",
      "source": [
        "# Dataset Columns\n",
        "df.columns"
      ],
      "metadata": {
        "id": "j7xfkqrt5Ag5"
      },
      "execution_count": null,
      "outputs": []
    },
    {
      "cell_type": "code",
      "source": [
        "# Dataset Describe\n",
        "df.describe(include ='all')"
      ],
      "metadata": {
        "id": "DnOaZdaE5Q5t"
      },
      "execution_count": null,
      "outputs": []
    },
    {
      "cell_type": "markdown",
      "source": [
        "This dataset has the following columns:\n",
        "    **ID** identifier for each applicant.\n",
        "   **Month:** The calendar month in which loan was taken.\n",
        "    **Annual Income:** The annual income of the loan applicants.\n",
        "    **Name:** Gives the name of the applicants.\n",
        "    **Age:** The age of the applicants.\n",
        "  **Occupation:** Gives the occupation of the applicants.\n",
        "  **Monthly In Hand Salary:** Gives the monthly in hand salary of the applicants.\n",
        "  **Outstanding Debt:** Remaining debt of the applicants.\n",
        "  **Total EMI per month** Gives the total emi per month paid by the applicants.\n",
        "  **Number of bank accounts:** Total bank accounts the applicants have.\n",
        " **Monthly Balance:** Shows the monthly balance of the applicants.\n",
        "  **Credit Score:** Shows the creditworthiness of the present applicants.\n",
        "\n",
        "\n",
        "\n",
        "\n",
        "\n"
      ],
      "metadata": {
        "id": "Ats5IwRWpFtI"
      }
    },
    {
      "cell_type": "markdown",
      "source": [
        " **Check Unique Values for each variable.**"
      ],
      "metadata": {
        "id": "u3PMJOP6ngxN"
      }
    },
    {
      "cell_type": "code",
      "source": [
        "# Check Unique Values for each variable.\n",
        "df.nunique()"
      ],
      "metadata": {
        "id": "zms12Yq5n-jE"
      },
      "execution_count": null,
      "outputs": []
    },
    {
      "cell_type": "markdown",
      "source": [
        "## 3. ***Data Wrangling***"
      ],
      "metadata": {
        "id": "dauF4eBmngu3"
      }
    },
    {
      "cell_type": "markdown",
      "source": [
        "### Data Wrangling Code"
      ],
      "metadata": {
        "id": "bKJF3rekwFvQ"
      }
    },
    {
      "cell_type": "code",
      "source": [
        "# Wrote the code to make the dataset analysis ready.\n",
        "df.dropna(inplace=True)\n",
        "df.reset_index(drop=True, inplace=True)"
      ],
      "metadata": {
        "id": "wk-9a2fpoLcV"
      },
      "execution_count": null,
      "outputs": []
    },
    {
      "cell_type": "code",
      "source": [
        "# Checking the dataset after cleaning it properly\n",
        "df.info()"
      ],
      "metadata": {
        "id": "o-17Sza_belR"
      },
      "execution_count": null,
      "outputs": []
    },
    {
      "cell_type": "markdown",
      "source": [
        "I have removed all null value and reset the index.I found that though there were no duplicates but there were a few null values which had to be treated."
      ],
      "metadata": {
        "id": "LbyXE7I1olp8"
      }
    },
    {
      "cell_type": "markdown",
      "source": [
        "## ***4. Data Vizualization, Storytelling & Experimenting with charts : Understand the relationships between variables***"
      ],
      "metadata": {
        "id": "GF8Ens_Soomf"
      }
    },
    {
      "cell_type": "markdown",
      "source": [
        "#### **Univariate Analysis**"
      ],
      "metadata": {
        "id": "0wOQAZs5pc--"
      }
    },
    {
      "cell_type": "code",
      "source": [
        "# Chart -1 Histogram Code\n",
        "import seaborn as sns\n",
        "import matplotlib.pyplot as plt\n",
        "\n",
        "sns.histplot(df['Total_EMI_per_month'],bins =40,kde =True)\n"
      ],
      "metadata": {
        "id": "7v_ESjsspbW7"
      },
      "execution_count": null,
      "outputs": []
    },
    {
      "cell_type": "markdown",
      "source": [
        "I picked this particular graph to know the skewness of the emi data which clearly shows that it is right skewed."
      ],
      "metadata": {
        "id": "XESiWehPqBRc"
      }
    },
    {
      "cell_type": "markdown",
      "source": [
        "I found that most of the loan payments are of lower amounts while a few are of very high amounts, enabling us to classify between regular and premium customers."
      ],
      "metadata": {
        "id": "C_j1G7yiqdRP"
      }
    },
    {
      "cell_type": "markdown",
      "source": [
        "#### **Histogram**"
      ],
      "metadata": {
        "id": "KSlN3yHqYklG"
      }
    },
    {
      "cell_type": "code",
      "source": [
        "# Chart - 2 Histogram Code\n",
        "df['dti_ratio'] = df['Total_EMI_per_month'] / df['Monthly_Inhand_Salary']\n",
        "\n",
        "sns.histplot(df['dti_ratio'], bins=30, kde=True)\n",
        "plt.title(\"Debt-to-Income Ratio Distribution\")\n",
        "plt.xlabel(\"DTI Ratio\")\n",
        "plt.show()"
      ],
      "metadata": {
        "id": "R4YgtaqtYklH"
      },
      "execution_count": null,
      "outputs": []
    },
    {
      "cell_type": "markdown",
      "source": [
        "To detect customers paying unusually high emi."
      ],
      "metadata": {
        "id": "5aaW0BYyYklI"
      }
    },
    {
      "cell_type": "markdown",
      "source": [
        "The insight derived from this chart is that most of the people have a low debt to income ratio."
      ],
      "metadata": {
        "id": "ijmpgYnKYklI"
      }
    },
    {
      "cell_type": "markdown",
      "source": [
        "The gained insight would be helpful to us as it would help us to decide whom we should give loan because people with higher debt to income ratio have a high risk of not repaying the loan."
      ],
      "metadata": {
        "id": "BcBbebzrYklV"
      }
    },
    {
      "cell_type": "markdown",
      "source": [
        "An insight that could lead to negative growth is of having a spike at the near zero level which means that most of the consumers take much less debt than they can afford to take according to their income which means that the credit is being underutilized. Hence, the financial institution in not expanding rapidly."
      ],
      "metadata": {
        "id": "f4LHOKQo-Wep"
      }
    },
    {
      "cell_type": "markdown",
      "source": [
        "#### **Bivariate** **Analysis**"
      ],
      "metadata": {
        "id": "EM7whBJCYoAo"
      }
    },
    {
      "cell_type": "code",
      "source": [
        "# Chart 3 Boxplot Code\n",
        "sns.boxplot(x='Occupation', y='Total_EMI_per_month', data=df)\n",
        "plt.xticks(rotation=45)\n",
        "plt.title(\"EMI Distribution by Employment Type\")\n",
        "plt.show()"
      ],
      "metadata": {
        "id": "t6GMdE67YoAp"
      },
      "execution_count": null,
      "outputs": []
    },
    {
      "cell_type": "markdown",
      "source": [
        "I picked this chart because it shows us the outliers in emi payments in every profession."
      ],
      "metadata": {
        "id": "5dBItgRVYoAp"
      }
    },
    {
      "cell_type": "markdown",
      "source": [
        "I found that accountants had the least outliers in the emi amounts while musicians had the most outliers."
      ],
      "metadata": {
        "id": "4jstXR6OYoAp"
      }
    },
    {
      "cell_type": "markdown",
      "source": [
        "The gained insight would help in creating a positive business impact because we would know which professionals take very low emi according to their income and hence we need to convince them more."
      ],
      "metadata": {
        "id": "GwMJKaJEABMu"
      }
    },
    {
      "cell_type": "markdown",
      "source": [
        "An insight which suggests negative growth is of having low median emi across occupations.\n",
        "\n",
        "For almost all job categories, the median EMI is quite low — clustered near the bottom of the scale.\n",
        "\n",
        "This indicates limited borrowing capacity or low credit utilization."
      ],
      "metadata": {
        "id": "jLNxxz7MYrdP"
      }
    },
    {
      "cell_type": "markdown",
      "source": [
        "#### **Multivariate Analysis**"
      ],
      "metadata": {
        "id": "NC_X3p0fY2L0"
      }
    },
    {
      "cell_type": "code",
      "source": [
        "num_cols =df.select_dtypes(include=['int64','float64']).columns\n",
        "print(\"Numeric Columns:\", num_cols)"
      ],
      "metadata": {
        "id": "xyC9zolEZNRQ"
      },
      "execution_count": null,
      "outputs": []
    },
    {
      "cell_type": "code",
      "source": [
        "# Chart 4- Correlation Heatmap\n",
        "corr =df[num_cols].corr()\n",
        "plt.figure(figsize=(10,10))\n",
        "sns.heatmap(corr,annot=True)"
      ],
      "metadata": {
        "id": "DUBZOWJ3qbti"
      },
      "execution_count": null,
      "outputs": []
    },
    {
      "cell_type": "markdown",
      "source": [
        "I picked this specific chart because I wanted to find the correlation of columns with each other."
      ],
      "metadata": {
        "id": "DVPuT8LYZNRQ"
      }
    },
    {
      "cell_type": "markdown",
      "source": [
        "The insights I got from this chart is that there are a few columns that have near zero correlation with other columns so we can remove those columns.\n",
        "Moreover, a higher correlation between  total emi per month and annual income means that higher earners tend to take bigger loans.\n"
      ],
      "metadata": {
        "id": "bfSqtnDqZNRR"
      }
    },
    {
      "cell_type": "markdown",
      "source": [
        "#### **Multivariate Analysis**"
      ],
      "metadata": {
        "id": "q29F0dvdveiT"
      }
    },
    {
      "cell_type": "code",
      "source": [
        "# Chart 5 -Pair plot\n",
        "cols = [\"Annual_Income\", \"Total_EMI_per_month\", \"dti_ratio\", \"Age\"]\n",
        "sns.pairplot(df[cols])\n",
        "plt.show()"
      ],
      "metadata": {
        "id": "o58-TEIhveiU"
      },
      "execution_count": null,
      "outputs": []
    },
    {
      "cell_type": "markdown",
      "source": [
        "I picked this specific chart because I wanted to know the relation between multiple important numeric columns."
      ],
      "metadata": {
        "id": "eMmPjTByveiU"
      }
    },
    {
      "cell_type": "markdown",
      "source": [
        "The insight I found is that Annual income is directly proportional to the Total emi per month which means the higher earners tend to take more debt.\n",
        "\n",
        "Moreover, the loan amount taken doesn't vary much by the age groups even in the prime age groups of 30's and 40's which means that the loan penetration doesn't happen as much as it should."
      ],
      "metadata": {
        "id": "uPQ8RGwHveiV"
      }
    },
    {
      "cell_type": "markdown",
      "source": [
        "### Handling Outliers"
      ],
      "metadata": {
        "id": "id1riN9m0vUs"
      }
    },
    {
      "cell_type": "code",
      "source": [
        "Q1 = df[\"Annual_Income\"].quantile(0.25)\n",
        "Q3 = df[\"Annual_Income\"].quantile(0.75)\n",
        "IQR = Q3 - Q1\n",
        "\n",
        "outliers = df[(df[\"Annual_Income\"] < (Q1 - 1.5 * IQR)) | (df[\"Annual_Income\"] > (Q3 + 1.5 * IQR))]\n",
        "print(\"Outliers in Annual Income:\", outliers.shape[0])"
      ],
      "metadata": {
        "id": "6v6FdbgAbVg-"
      },
      "execution_count": null,
      "outputs": []
    },
    {
      "cell_type": "code",
      "source": [
        "upper_cap = df[\"Annual_Income\"].quantile(0.99)\n",
        "lower_cap = df[\"Annual_Income\"].quantile(0.01)\n",
        "df[\"Annual_Income\"] = np.where(df[\"Annual_Income\"] > upper_cap, upper_cap,\n",
        "                        np.where(df[\"Annual_Income\"] < lower_cap, lower_cap, df[\"Annual_Income\"]))"
      ],
      "metadata": {
        "id": "M6w2CzZf04JK"
      },
      "execution_count": null,
      "outputs": []
    },
    {
      "cell_type": "markdown",
      "source": [
        "The outlier treatment technique used here is of Intra Quartile Range because there was certain right skewness in the data to be addressed."
      ],
      "metadata": {
        "id": "uGZz5OrT1HH-"
      }
    },
    {
      "cell_type": "markdown",
      "source": [
        "\n",
        "# **Conclusion**"
      ],
      "metadata": {
        "id": "gCX9965dhzqZ"
      }
    },
    {
      "cell_type": "markdown",
      "source": [
        "The PaisaBazaar loan dataset analysis and modeling led to several important findings:\n",
        "\n",
        "**Data and Customer Insights**\n",
        "\n",
        "Income and EMI were highly skewed with extreme outliers required capping and scaling.\n",
        "\n",
        "Debt-to-Income (DTI) ratio and credit utilization emerged as the most powerful indicators of customer risk.\n",
        "\n",
        "Seasonal trends (via month column) showed higher loan applications during festive months (Oct -Nov, Mar -Apr).\n",
        "\n",
        "**Exploratory Analysis**\n",
        "\n",
        "Customers with high DTI (>50%) had a significantly higher default probability.\n",
        "\n",
        "Income had a negative correlation with default — higher earners were more reliable.\n",
        "\n",
        "EMI and DTI were strongly correlated.\n",
        "\n"
      ],
      "metadata": {
        "id": "Fjb1IsQkh3yE"
      }
    }
  ]
}